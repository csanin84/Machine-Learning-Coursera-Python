{
 "cells": [
  {
   "cell_type": "code",
   "execution_count": 1,
   "metadata": {},
   "outputs": [],
   "source": [
    "import scipy.io as io\n",
    "import numpy as np\n",
    "import matplotlib.pyplot as plt\n",
    "#plt.style.use('seaborn-muted')\n",
    "plt.style.use('ggplot')\n",
    "import scipy.optimize as opt"
   ]
  },
  {
   "cell_type": "markdown",
   "metadata": {},
   "source": [
    "## Funciones"
   ]
  },
  {
   "cell_type": "code",
   "execution_count": 21,
   "metadata": {},
   "outputs": [],
   "source": [
    "def display_data(X, l=8, h=8):\n",
    "    \"\"\"\n",
    "    Transforms each input row into a rectangular image part and plots\n",
    "    the resulting image.\n",
    "    \"\"\"\n",
    "    m, n = X.shape \n",
    "    \n",
    "    example_width = int(np.around(np.sqrt(n))) # anchura de pixels\n",
    "    example_height = int(n / example_width) # altura pixels\n",
    "       \n",
    "    # calcular filas y columnas de la matriz a mostrar\n",
    "    display_rows = int(np.sqrt(m))\n",
    "    display_cols = int(m / display_rows)   \n",
    "    \n",
    "    # padding entre las imagenes\n",
    "    pad = 1\n",
    "    \n",
    "    display_array = -np.ones((pad + display_rows * (example_height + pad),  \n",
    "                              pad + display_cols * (example_width + pad)))\n",
    "    \n",
    "   # Copy example into a patch on the display array\n",
    "    curr_ex = 0\n",
    "    \n",
    "    for i in range(display_rows):\n",
    "        for j in range(display_cols):\n",
    "            \n",
    "            if curr_ex < m:                \n",
    "                \n",
    "                # obtener maximo valor para normalizar ejemplos\n",
    "                max_val = max(abs(X[curr_ex, :]))\n",
    "            \n",
    "                rows = pad + (i) * (example_height + pad) + np.array(range(example_height))\n",
    "                cols = pad + (j) * (example_width + pad) + np.array(range(example_width ))\n",
    "            \n",
    "                img = np.reshape(X[curr_ex, :], (example_height, example_width))\n",
    "                \n",
    "                display_array[ rows[0]: rows[-1] + 1 , cols[0]: cols[-1] + 1 ] = img / max_val\n",
    "                \n",
    "                curr_ex += 1\n",
    "           \n",
    "            else:\n",
    "                break          \n",
    "             \n",
    "    plt.figure(figsize=(l, h))\n",
    "    plt.imshow(display_array.T, plt.cm.gray)\n",
    "    plt.axis(\"off\")\n",
    "   \n",
    "    plt.show()\n",
    "# =========================================================================\n",
    "def sigmoid(z):\n",
    "    \"\"\"\n",
    "    SIGMOID Compute sigmoid function\n",
    "    g = SIGMOID(z) computes the sigmoid of z.    \n",
    "    \"\"\"\n",
    "    #inicializar variables\n",
    "    g = np.zeros(z.shape)    \n",
    "    g = 1. / (1 + np.exp(-z))\n",
    "    \n",
    "    return g\n",
    "# =========================================================================\n",
    "def nnCostFunction(nn_params, input_layer_size, hidden_layer_size, \n",
    "                   num_labels, X, y, lamda):\n",
    "    \"\"\"\n",
    "    neural network which performs classification\n",
    "    [J grad] = NNCOSTFUNCTON(nn_params, hidden_layer_size, num_labels, ...\n",
    "    X, y, lambda) computes the cost and gradient of the neural network. The\n",
    "    parameters for the neural network are \"unrolled\" into the vector\n",
    "    nn_params and need to be converted back into the weight matrices. \n",
    "\n",
    "    The returned parameter grad should be a \"unrolled\" vector of the\n",
    "    partial derivatives of the neural network.\n",
    "    \"\"\"\n",
    "    \n",
    "    # Reshape nn_params back into the parameters Theta1 and Theta2, the weight matrices\n",
    "    # for our 2 layer neural network   \n",
    "    \n",
    "    Theta1 = np.reshape(nn_params[:hidden_layer_size * (input_layer_size + 1)], \n",
    "                        (hidden_layer_size, input_layer_size + 1), order='F')\n",
    "    \n",
    "    Theta2 = np.reshape(nn_params[hidden_layer_size * (input_layer_size + 1):], \n",
    "                        (num_labels, hidden_layer_size + 1), order='F') \n",
    "    \n",
    "    # Setup some useful variables\n",
    "    m = X.shape[0]\n",
    "    \n",
    "    # You need to return the following variables correctly \n",
    "    J = 0\n",
    "    Theta1_grad = np.zeros(Theta1.shape);\n",
    "    Theta2_grad = np.zeros(Theta2.shape);\n",
    "    p = np.zeros((m, ));\n",
    "    \n",
    "    # part 1\n",
    "    # Add ones to the X data matrix\n",
    "    a1 = np.hstack( (np.ones((m, 1)), X) )    \n",
    "    a2 = sigmoid(a1@Theta1.T)\n",
    "    a2 = np.hstack( (np.ones((m, 1)), a2) )  \n",
    "    a3 = sigmoid(a2@Theta2.T);   \n",
    "    # Probabilidades de predicciones\n",
    "    h = a3 #np.argmax( a3, axis = 0 ) + 1\n",
    "       \n",
    "    # transformar y en una matriz\n",
    "    y_matrix = np.zeros((m, num_labels))\n",
    "    \n",
    "    for i in range(m):\n",
    "        y_matrix[i, y[i]-1] = 1    \n",
    "    \n",
    "    cost = 0    \n",
    "    \n",
    "    #error\n",
    "    k_err = 1.0/m    \n",
    "    err_1 = -y_matrix * np.log(h)    \n",
    "    err_2 = (1-y_matrix) * np.log(1-h)    \n",
    "    err = k_err * np.sum( np.sum((err_1 - err_2), axis=1) )\n",
    "    \n",
    "    #regularización\n",
    "    k_lamda = (lamda*0.5)/m\n",
    "    err_lamda_1 = np.sum( np.sum(np.power(Theta1[:,2:],2), axis=1) )\n",
    "    err_lamda_2 = np.sum( np.sum(np.power(Theta2[:,2:],2), axis=1) )\n",
    "    reg = k_lamda * (err_lamda_1 + err_lamda_2)\n",
    "    \n",
    "    J = err + reg\n",
    "    \n",
    "    return J\n",
    "# ========================================================================= \n",
    "\n",
    "def sigmoidGradient(z):\n",
    "    \"\"\"\n",
    "    SIGMOIDGRADIENT returns the gradient of the sigmoid function\n",
    "    evaluated at z\n",
    "    g = SIGMOIDGRADIENT(z) computes the gradient of the sigmoid function\n",
    "    evaluated at z. This should work regardless if z is a matrix or a\n",
    "    vector. In particular, if z is a vector or matrix, you should return\n",
    "    the gradient for each element.\n",
    "    \"\"\"\n",
    "    g = np.zeros(len(z))\n",
    "    g = sigmoid(z)*(1.0-sigmoid(z))\n",
    "    \n",
    "    return g\n",
    "# ========================================================================= \n",
    "\n",
    "def randInitializeWeights(L_in, L_out, epsilon_init = 0.12):\n",
    "    \"\"\"\n",
    "    RANDINITIALIZEWEIGHTS Randomly initialize the weights of a layer with L_in\n",
    "    incoming connections and L_out outgoing connections\n",
    "    W = RANDINITIALIZEWEIGHTS(L_in, L_out) randomly initializes the weights \n",
    "    of a layer with L_in incoming connections and L_out outgoing \n",
    "    connections. \n",
    "\n",
    "    Note that W should be set to a matrix of size(L_out, 1 + L_in) as\n",
    "    the first column of W handles the \"bias\" terms\n",
    "    \"\"\"    \n",
    "    W = np.zeros(L_out, 1 + L_in)    \n",
    "    \n",
    "    W = np.random.rand(L_out, 1 + L_in) * 2 * epsilon_init - epsilon_init\n",
    "    \n",
    "    return W"
   ]
  },
  {
   "cell_type": "markdown",
   "metadata": {},
   "source": [
    "## Inicialización"
   ]
  },
  {
   "cell_type": "code",
   "execution_count": 3,
   "metadata": {},
   "outputs": [],
   "source": [
    "# configurar paramatros a utilizar\n",
    "input_layer_size = 400 # imagenes de 20 x 20 pixels\n",
    "hidden_layer_size = 25 # 25 unidades ocultas\n",
    "num_labels = 10 # 10 labels de 1 a 10"
   ]
  },
  {
   "cell_type": "markdown",
   "metadata": {},
   "source": [
    "## Parte 1: Cargando y Visualizando Datos"
   ]
  },
  {
   "cell_type": "code",
   "execution_count": 4,
   "metadata": {},
   "outputs": [
    {
     "data": {
      "image/png": "[encoded data removed]",
      "text/plain": [
       "<Figure size 576x576 with 1 Axes>"
      ]
     },
     "metadata": {},
     "output_type": "display_data"
    }
   ],
   "source": [
    "# cargar datos\n",
    "data = io.loadmat('ex4data1.mat') #lectura de file .mat, cargados en un diccionario con X, y como llaves\n",
    "\n",
    "X = data[\"X\"]\n",
    "y = data[\"y\"]\n",
    "y = y.reshape((len(y),))\n",
    "m = X.shape[0]\n",
    "\n",
    "# seleccionar aleatoriamente 100 data point para mostrar\n",
    "rand_indices = np.random.permutation(m)\n",
    "sel = X[rand_indices[0:100],:]\n",
    "\n",
    "display_data(sel)\n"
   ]
  },
  {
   "cell_type": "markdown",
   "metadata": {},
   "source": [
    "## Parte 2: Cargando Parametros"
   ]
  },
  {
   "cell_type": "code",
   "execution_count": 10,
   "metadata": {},
   "outputs": [],
   "source": [
    "# cargar datos\n",
    "parameter = io.loadmat('ex4weights.mat') #lectura de file .mat, cargados en un diccionario con X, y como llaves\n",
    "Theta1 = parameter[\"Theta1\"]\n",
    "Theta2 = parameter[\"Theta2\"]\n",
    "#print(f\"shape Theta1 = {Theta1.shape}, \\nshape Theta2 = {Theta2.shape}\")\n",
    "#print(f\"len :{len(X)}, shape:{X.shape}\")\n",
    "# unrroll Theta1 y Theta2\n",
    "UTheta1 = np.reshape(Theta1, Theta1.size, order =\"F\")\n",
    "UTheta2 = np.reshape(Theta2, Theta2.size, order =\"F\")\n",
    "\n",
    "nn_params = np.concatenate((UTheta1, UTheta2))"
   ]
  },
  {
   "cell_type": "markdown",
   "metadata": {},
   "source": [
    "## Parte 3: Calcular el costo (Feedforward)"
   ]
  },
  {
   "cell_type": "code",
   "execution_count": 6,
   "metadata": {},
   "outputs": [
    {
     "name": "stdout",
     "output_type": "stream",
     "text": [
      "Feedforward usando la Red Neuronal ...\n",
      "\n",
      "parametros de costo (cargados de ex4weights):0.28762917\n",
      "(Este valor debe estar cerca de 0.287629)\n"
     ]
    }
   ],
   "source": [
    "print(\"Feedforward usando la Red Neuronal ...\\n\")\n",
    "\n",
    "# Weight regularization parameter (we set this to 0 here).\n",
    "lamda = 0\n",
    "J = nnCostFunction(nn_params, input_layer_size, hidden_layer_size, num_labels, X, y, lamda)\n",
    "\n",
    "print(f\"parametros de costo (cargados de ex4weights):{J:5.8f}\") \n",
    "print(\"(Este valor debe estar cerca de 0.287629)\")"
   ]
  },
  {
   "cell_type": "markdown",
   "metadata": {},
   "source": [
    "## Parte 4: Implementar Regularización"
   ]
  },
  {
   "cell_type": "code",
   "execution_count": 7,
   "metadata": {},
   "outputs": [
    {
     "name": "stdout",
     "output_type": "stream",
     "text": [
      "parametros de costo (cargados de ex4weights):0.38231216\n",
      "(Este valor debe estar cerca de 0.383770)\n"
     ]
    }
   ],
   "source": [
    "# Weight regularization parameter (we set this to 0 here).\n",
    "lamda = 1.\n",
    "J = nnCostFunction(nn_params, input_layer_size, hidden_layer_size, num_labels, X, y, lamda)\n",
    "\n",
    "print(f\"parametros de costo (cargados de ex4weights):{J:5.8f}\") \n",
    "print(\"(Este valor debe estar cerca de 0.383770)\")"
   ]
  },
  {
   "cell_type": "markdown",
   "metadata": {},
   "source": [
    "## Parte 5: Sigmoid Gradiente"
   ]
  },
  {
   "cell_type": "code",
   "execution_count": 13,
   "metadata": {},
   "outputs": [
    {
     "name": "stdout",
     "output_type": "stream",
     "text": [
      "Evaluando sigmoid gradient...\n",
      "\n",
      "Sigmoid gradiente evaluado en [-1 -0.5 0 0.5 1]:\n",
      " \n",
      "[0.19661193 0.23500371 0.25       0.23500371 0.19661193]\n"
     ]
    }
   ],
   "source": [
    "print(\"Evaluando sigmoid gradient...\")\n",
    "\n",
    "g = sigmoidGradient(np.array([-1., -0.5, 0., 0.5, 1.]));\n",
    "print(\"\\nSigmoid gradiente evaluado en [-1 -0.5 0 0.5 1]:\\n \");\n",
    "print(g)\n",
    "\n"
   ]
  },
  {
   "cell_type": "markdown",
   "metadata": {},
   "source": [
    "## Parte 6: Inicialización de Parametros"
   ]
  },
  {
   "cell_type": "code",
   "execution_count": null,
   "metadata": {},
   "outputs": [],
   "source": [
    "print(\"Inicializando parametros de la Red Neuronal...\")\n",
    "initial_Theta1 = randInitializeWeights(input_layer_size, hidden_layer_size)\n",
    "initial_Theta2 = randInitializeWeights(hidden_layer_size, num_labels)"
   ]
  },
  {
   "cell_type": "code",
   "execution_count": 15,
   "metadata": {},
   "outputs": [
    {
     "data": {
      "text/plain": [
       "array([[0.74755938, 0.96971011],\n",
       "       [0.19504872, 0.19744243],\n",
       "       [0.35860804, 0.21471921]])"
      ]
     },
     "execution_count": 15,
     "metadata": {},
     "output_type": "execute_result"
    }
   ],
   "source": [
    "np.random.rand(3,2)"
   ]
  },
  {
   "cell_type": "code",
   "execution_count": 16,
   "metadata": {},
   "outputs": [
    {
     "data": {
      "text/plain": [
       "0.953207982197326"
      ]
     },
     "execution_count": 16,
     "metadata": {},
     "output_type": "execute_result"
    }
   ],
   "source": [
    "np.random.rand()"
   ]
  },
  {
   "cell_type": "code",
   "execution_count": 20,
   "metadata": {},
   "outputs": [
    {
     "data": {
      "text/plain": [
       "array([[0.15085992, 0.38175106],\n",
       "       [0.88472858, 0.7893069 ],\n",
       "       [0.59853781, 0.5052849 ]])"
      ]
     },
     "execution_count": 20,
     "metadata": {},
     "output_type": "execute_result"
    }
   ],
   "source": [
    "np.random.random((3,2))"
   ]
  },
  {
   "cell_type": "code",
   "execution_count": null,
   "metadata": {},
   "outputs": [],
   "source": []
  }
 ],
 "metadata": {
  "kernelspec": {
   "display_name": "Python 3",
   "language": "python",
   "name": "python3"
  },
  "language_info": {
   "codemirror_mode": {
    "name": "ipython",
    "version": 3
   },
   "file_extension": ".py",
   "mimetype": "text/x-python",
   "name": "python",
   "nbconvert_exporter": "python",
   "pygments_lexer": "ipython3",
   "version": "3.6.5"
  }
 },
 "nbformat": 4,
 "nbformat_minor": 2
}
