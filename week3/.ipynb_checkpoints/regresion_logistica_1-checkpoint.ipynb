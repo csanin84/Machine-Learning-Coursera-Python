{
 "cells": [
  {
   "cell_type": "markdown",
   "metadata": {},
   "source": [
    "## Importaciones"
   ]
  },
  {
   "cell_type": "code",
   "execution_count": 1,
   "metadata": {},
   "outputs": [
    {
     "data": {
      "text/plain": [
       "'\\ndef mapFeature(X1, X2):\\n    \\n    \\n    #MAPFEATURE Feature mapping function to polynomial features\\n\\n    #MAPFEATURE(X1, X2) maps the two input features\\n    #to quadratic features used in the regularization exercise.\\n\\n    #Returns a new feature array with more features, comprising of \\n    #X1, X2, X1.^2, X2.^2, X1*X2, X1*X2.^2, etc..\\n\\n    #Inputs X1, X2 must be the same size\\n    \\n    degree = 6\\n    out = np.ones(1)\\n   \\n    for i in range(1, degree + 1):\\n        for j in range(0, i + 1):\\n            out = np.append(out, ((X1**(i-j))*(X2**(j))))    \\n            \\n    return out\\n'"
      ]
     },
     "execution_count": 1,
     "metadata": {},
     "output_type": "execute_result"
    }
   ],
   "source": [
    "# cargar datos usando pandas\n",
    "#data = pd.read_csv(\"ex2data1.txt\", sep = \",\", header = None)\n",
    "# adicionar nombres de columnas\n",
    "#columnas = [\"Exam 1 score\", \"Exam 2 score\", \"Admitted\"]\n",
    "#data.columns = columnas\n",
    "#definir variables para X y y\n",
    "#X_columnas = columnas[0:-1]\n",
    "#y_columnas = columnas[-1]\n",
    "\n",
    "\"\"\"\n",
    "def mapFeature(X1, X2):\n",
    "    \n",
    "    \n",
    "    #MAPFEATURE Feature mapping function to polynomial features\n",
    "\n",
    "    #MAPFEATURE(X1, X2) maps the two input features\n",
    "    #to quadratic features used in the regularization exercise.\n",
    "\n",
    "    #Returns a new feature array with more features, comprising of \n",
    "    #X1, X2, X1.^2, X2.^2, X1*X2, X1*X2.^2, etc..\n",
    "\n",
    "    #Inputs X1, X2 must be the same size\n",
    "    \n",
    "    degree = 6\n",
    "    out = np.ones(1)\n",
    "   \n",
    "    for i in range(1, degree + 1):\n",
    "        for j in range(0, i + 1):\n",
    "            out = np.append(out, ((X1**(i-j))*(X2**(j))))    \n",
    "            \n",
    "    return out\n",
    "\"\"\""
   ]
  },
  {
   "cell_type": "code",
   "execution_count": 2,
   "metadata": {},
   "outputs": [],
   "source": [
    "import numpy as np\n",
    "import pandas as pd\n",
    "import matplotlib.pyplot as plt\n",
    "plt.style.use('ggplot')\n",
    "\n",
    "import scipy.optimize as opt"
   ]
  },
  {
   "cell_type": "markdown",
   "metadata": {},
   "source": [
    "## Funciones"
   ]
  },
  {
   "cell_type": "code",
   "execution_count": 3,
   "metadata": {},
   "outputs": [],
   "source": [
    "def print_array(array):\n",
    "    \"\"\"Funcion para escribir una lista espaceada o salto de linea\"\"\"\n",
    "    for a in array:\n",
    "        print(\" {0:5.6f}\".format(a))\n",
    "        \n",
    "\n",
    "def plotData(X, y, plot_x = np.array([0., 0.]), plot_y = np.array([0., 0.])):\n",
    "    \"\"\"PLOTDATA Plots the data points X and y into a new figure \n",
    "    PLOTDATA(x,y) plots the data points with + for the positive examples\n",
    "    and o for the negative examples. X is assumed to be a Mx2 matrix.\"\"\"\n",
    "    \n",
    "    # encontrar los indices positivos y negativos\n",
    "    pos, neg = np.where(y == 1)[0], np.where(y == 0)[0]\n",
    "    \n",
    "    plt.figure(figsize=(8, 8))\n",
    "    plt.plot(X[pos,0],X[pos,1], \"k+\", markersize = 8, label = \"Admitted\")\n",
    "    plt.plot(X[neg,0],X[neg,1], \"yo\", markersize = 8, label = \"Not Admitted\")\n",
    "    \n",
    "    #decision boundary\n",
    "    if (np.sum(plot_x + plot_y) != 0.):\n",
    "        plt.plot(plot_x, plot_y,'b--')\n",
    "        plt.ylim((28, 102))\n",
    "        plt.xlim((28, 102))\n",
    "        \n",
    "    plt.xlabel(\"Exam 1 score\")\n",
    "    plt.ylabel(\"Exam 2 score\")\n",
    "    \n",
    "    plt.legend()\n",
    "    \n",
    "    plt.show()\n",
    "\n",
    "def plotData1(X, y, xlabel = \"Exam 1 score\", ylabel = \"Admitted\", \n",
    "             label_pos = \"Admitted\", label_neg = \"Not Admitted\"):\n",
    "    \n",
    "    \"\"\"PLOTDATA Plots the data points X and y into a new figure \n",
    "    PLOTDATA(x,y) plots the data points with + for the positive examples\n",
    "    and o for the negative examples. X is assumed to be a Mx2 matrix.\"\"\"\n",
    "    \n",
    "    # encontrar los indices positivos y negativos\n",
    "    pos, neg = np.where(y == 1)[0], np.where(y == 0)[0]\n",
    "    \n",
    "    f, ax = plt.subplots(figsize=(8, 8))\n",
    "    ax.plot(X[pos,0],X[pos,1], \"k+\", markersize = 8, label = label_pos)\n",
    "    ax.plot(X[neg,0],X[neg,1], \"yo\", markersize = 8, label = label_neg)\n",
    "    \n",
    "\n",
    "        \n",
    "    ax.set_xlabel(xlabel)\n",
    "    ax.set_ylabel(ylabel)\n",
    "    \n",
    "    ax.legend()\n",
    "    \n",
    "    return (f, ax)\n",
    "\n",
    "\n",
    "def sigmoid(z):\n",
    "    \"\"\"SIGMOID Compute sigmoid function\n",
    "       g = SIGMOID(z) computes the sigmoid of z.\"\"\"\n",
    "    #inicializar variables\n",
    "    g = np.zeros(z.shape)    \n",
    "    g = 1. / (1 + np.exp(-z))\n",
    "    \n",
    "    return g\n",
    "    \n",
    "\n",
    "def costFunction(theta, X, y):\n",
    "    \"\"\"COSTFUNCTION Compute cost and gradient for logistic regression\n",
    "    J = COSTFUNCTION(theta, X, y) computes the cost of using theta as the\n",
    "    parameter for logistic regression and the gradient of the cost\n",
    "    w.r.t. to the parameters.\"\"\"\n",
    "    \n",
    "    # Inicializar algunos valores utiles\n",
    "    m = len(y)\n",
    "    \n",
    "    # inicializar variables a retornar\n",
    "    J = 0.\n",
    "    grad = np.zeros(theta.shape)\n",
    "    \n",
    "    z = np.dot(X,theta)\n",
    "    h = sigmoid(z)\n",
    "    J = (1./m) * ( (np.dot(-y,np.log(h))) - ((np.dot((1-y),np.log(1-h)))) )\n",
    "    grad = (1./m) * np.dot(X.T,(h-y))\n",
    "                  \n",
    "    return (J, grad)  \n",
    "                 \n",
    "\n",
    "def J(theta, X, y):  \n",
    "    \"\"\"return J value\"\"\"\n",
    "    return costFunction(theta, X, y)[0]\n",
    "\n",
    "def gradient(theta, X, y): \n",
    "    \"\"\"return gradient\"\"\"\n",
    "    return costFunction(theta, X, y)[1] \n",
    "\n",
    "def plotDecisionBoundary(theta, X, y):    \n",
    "    \"\"\"\n",
    "    PLOTDECISIONBOUNDARY Plots the data points X and y into a new figure with\n",
    "    the decision boundary defined by theta PLOTDECISIONBOUNDARY(theta, X,y) \n",
    "    plots the data points with + for the positive examples and o for the negative \n",
    "    examples. X is assumed to be a either \n",
    "    1) Mx3 matrix, where the first column is an all-ones column for the intercept.\n",
    "    2) MxN, N>3 matrix, where the first column is all-ones\n",
    "    \"\"\"\n",
    "    #graficar datos\n",
    "    #plotData(X[:,[1,2]], y)\n",
    "    \n",
    "    m, n = X.shape\n",
    "    \n",
    "    if n<= 3:\n",
    "        # solamente se necesitan dos puntos para definir una linea, por eso escogemos los puntos finales\n",
    "        plot_x = np.array([X[:,1].min() - 2, X[:,1].max() + 2 ])\n",
    "        print(\"\\n\\nBoundary\")\n",
    "        print(len(plot_x))\n",
    "        # calcular la linea de decisión\n",
    "        plot_y = (-1. / theta[2]) * (theta[1] * plot_x + theta[0])\n",
    "        print(len(plot_y))\n",
    "        plotData(X[:,[1,2]], y, plot_x, plot_y)\n",
    "    else:\n",
    "        #establecer la grilla de rango\n",
    "        u = np.linspace(-1., 1.5, 50)\n",
    "        v = np.linspace(-1., 1.5, 50)\n",
    "        \n",
    "        z = np.zeros((len(u), len(v)))\n",
    "        #evaluar z = theta*x sobre la grilla\n",
    "        for i in range(0,len(u)):\n",
    "            for j in range(0,len(v)):\n",
    "                z[i,j] = mapFeature(u[i],v[j])*theta\n",
    "                \n",
    "        plt.contour(u, v, z)\n",
    "        \n",
    "def mapFeature(X1, X2, degree = 6):\n",
    "    \n",
    "    \"\"\"\n",
    "    MAPFEATURE Feature mapping function to polynomial features\n",
    "\n",
    "    MAPFEATURE(X1, X2) maps the two input features\n",
    "    to quadratic features used in the regularization exercise.\n",
    "\n",
    "    Returns a new feature array with more features, comprising of \n",
    "    X1, X2, X1.^2, X2.^2, X1*X2, X1*X2.^2, etc..\n",
    "\n",
    "    Inputs X1, X2 must be the same size\n",
    "    \"\"\"\n",
    "    \n",
    "    out = np.ones((X1.shape[0], 1)) \n",
    "    \n",
    "    for i in range(1, degree + 1):\n",
    "        for j in range(0, i + 1):\n",
    "            \n",
    "            val_pol = ((X1**(i-j))*(X2**(j)))\n",
    "            #adicionar una columna con el valor del polinomio al final de la matriz\n",
    "            out = np.hstack(( out, val_pol ))\n",
    "    \n",
    "    return out \n",
    "\n",
    "\n",
    "    \n",
    "def predict(theta, X):\n",
    "    \"\"\"\n",
    "    PREDICT Predict whether the label is 0 or 1 using learned logistic \n",
    "    regression parameters theta\n",
    "    p = PREDICT(theta, X) computes the predictions for X using a \n",
    "    threshold at 0.5 (i.e., if sigmoid(theta'*x) >= 0.5, predict 1)\n",
    "    \"\"\"\n",
    "    # número de ejemplos de entrenamiento\n",
    "    m = X.shape[0]\n",
    "   \n",
    "    # vectores de probabilidades\n",
    "    p = np.zeros((m,1))\n",
    "    \n",
    "    # asignar 0 o 1 a las probabilidades\n",
    "    h = sigmoid(X@theta)  \n",
    "    h = h.reshape((m,1))\n",
    "    h[ h >= 0.5 ] = 1.\n",
    "    h[ h < 0.5 ] = 0.\n",
    "    \n",
    "    p = h\n",
    "    \n",
    "    return p\n",
    "        \n",
    "    "
   ]
  },
  {
   "cell_type": "markdown",
   "metadata": {},
   "source": [
    "## Ejercicio 2: Regresión Logistica\n",
    "### Inicialización"
   ]
  },
  {
   "cell_type": "code",
   "execution_count": 4,
   "metadata": {},
   "outputs": [],
   "source": [
    "# cargar datos numpy\n",
    "data = np.loadtxt(fname = \"ex2data1.txt\", delimiter =\",\")\n",
    "\n",
    "# crear matriz de variables y el vector de clases\n",
    "X = data[:,[0,1]]\n",
    "y = data[:,-1]\n",
    "\n",
    "# tamaño de la matriz\n",
    "m, n = X.shape\n",
    "\n",
    "# redimencionar y\n",
    "#y = y.reshape(m,1)"
   ]
  },
  {
   "cell_type": "markdown",
   "metadata": {},
   "source": [
    "## Parte 1: Graficar"
   ]
  },
  {
   "cell_type": "code",
   "execution_count": 5,
   "metadata": {},
   "outputs": [
    {
     "name": "stdout",
     "output_type": "stream",
     "text": [
      "Graficar datos con + indicando (y = 1) ejemplos y o indicando (y = 0) ejemplos.\n",
      "\n"
     ]
    },
    {
     "data": {
      "image/png": "[encoded data removed]",
      "text/plain": [
       "<Figure size 576x576 with 1 Axes>"
      ]
     },
     "metadata": {},
     "output_type": "display_data"
    }
   ],
   "source": [
    "print(\"Graficar datos con + indicando (y = 1) ejemplos y o indicando (y = 0) ejemplos.\\n\")\n",
    "f, ax = plotData1(X, y)"
   ]
  },
  {
   "cell_type": "markdown",
   "metadata": {},
   "source": [
    "## Parte 2 : Calcular costo y gradiente"
   ]
  },
  {
   "cell_type": "code",
   "execution_count": 6,
   "metadata": {},
   "outputs": [
    {
     "name": "stdout",
     "output_type": "stream",
     "text": [
      "Costo inicial de theta (ceros): \n",
      " 0.693147\n",
      "Costo esperado (approx):\n",
      " 0.693\n",
      "\n",
      "Gradiente inicial de thetha (ceros): \n",
      " -0.100000\n",
      " -12.009217\n",
      " -11.262842\n",
      "Gradiente esperado (approx):\n",
      " -0.1000\n",
      " -12.0092\n",
      " -11.2628\n",
      "\n",
      "\n",
      "Costo del test de theta: \n",
      " 0.218330\n",
      "Costo esperado (approx): \n",
      " 0.218\n",
      "\n",
      "Gradiente del test de theta:\n",
      " 0.042903\n",
      " 2.566234\n",
      " 2.646797\n",
      "Gradiente esperado (approx):\n",
      " 0.043\n",
      " 2.566\n",
      " 2.647\n",
      "\n",
      "\n",
      "Costo de thetha por fmin_bfgs: \n",
      " 0.203498\n",
      "Costo esperado (approx): \n",
      " 0.203\n",
      "\n",
      "theta:\n",
      " -25.161333\n",
      " 0.206232\n",
      " 0.201472\n",
      "Theta esperado(approx):\n",
      " -25.161\n",
      " 0.206\n",
      " 0.201\n",
      "\n"
     ]
    },
    {
     "name": "stderr",
     "output_type": "stream",
     "text": [
      "C:\\Users\\carlos\\Anaconda3\\lib\\site-packages\\ipykernel_launcher.py:81: RuntimeWarning: divide by zero encountered in log\n"
     ]
    },
    {
     "data": {
      "image/png": "[encoded data removed]",
      "text/plain": [
       "<Figure size 576x576 with 1 Axes>"
      ]
     },
     "metadata": {},
     "output_type": "display_data"
    }
   ],
   "source": [
    "# adicionar columna de 1 a X\n",
    "if X.shape[1] == 2:\n",
    "    X = np.append(np.ones((m,1)), X, axis= 1)\n",
    "\n",
    "# inicializar los parametros de ajuste theta\n",
    "initial_theta = np.zeros(n+1)\n",
    "\n",
    "#calcular y mostrar costo y gradiente inicial\n",
    "cost, grad = costFunction(initial_theta, X, y)\n",
    "\n",
    "print(\"Costo inicial de theta (ceros): \\n {0:5.6f}\".format(cost))\n",
    "\n",
    "print(\"Costo esperado (approx):\\n 0.693\\n\")\n",
    "print(\"Gradiente inicial de thetha (ceros): \")\n",
    "print_array(grad)\n",
    "print('Gradiente esperado (approx):\\n -0.1000\\n -12.0092\\n -11.2628\\n');\n",
    "\n",
    "# calcule y mueste el costo y el gradiente con theta diferente de cero\n",
    "test_theta = np.array([-24, 0.2, 0.2])\n",
    "cost, grad = costFunction(test_theta, X, y)\n",
    "\n",
    "print(\"\\nCosto del test de theta: \\n {0:5.6f}\".format(cost))\n",
    "print(\"Costo esperado (approx): \\n 0.218\\n\");\n",
    "print(\"Gradiente del test de theta:\");\n",
    "print_array(grad)\n",
    "print(\"Gradiente esperado (approx):\\n 0.043\\n 2.566\\n 2.647\\n\");\n",
    "\n",
    "val = opt.fmin_bfgs(J, np.array([0., 0., 0.]), fprime=gradient, args=(X, y), full_output = True, disp = False)\n",
    "cost, theta = val[1], val[0]\n",
    "# Print theta to screen\n",
    "print(\"\\nCosto de thetha por fmin_bfgs: \\n {0:5.6f}\".format(cost))\n",
    "print(\"Costo esperado (approx): \\n 0.203\")\n",
    "print(\"\\ntheta:\")\n",
    "print_array(theta)\n",
    "print(\"Theta esperado(approx):\")\n",
    "print(\" -25.161\\n 0.206\\n 0.201\\n\")\n",
    "\n",
    "plotDecisionBoundary(theta, X, y)\n"
   ]
  },
  {
   "cell_type": "markdown",
   "metadata": {},
   "source": [
    "## Parte 4: Predicciones y precisión "
   ]
  },
  {
   "cell_type": "code",
   "execution_count": 7,
   "metadata": {},
   "outputs": [
    {
     "name": "stdout",
     "output_type": "stream",
     "text": [
      "Para un estuduante con notas 45 y 85, predecimos una probabilidad de admisión de 0.776291\n",
      "\n",
      "Valor esperado: 0.775 +/- 0.002\n",
      "\n",
      "\n",
      "Presición del enetrenamiento: 89.000000\n",
      "\n",
      "Precisión esperada (approx): 89.0\n",
      "\n"
     ]
    }
   ],
   "source": [
    "prob = sigmoid(np.array([1., 45., 85.]) @ theta)\n",
    "print(\"Para un estuduante con notas 45 y 85, predecimos una probabilidad de admisión de {0:5.6f}\\n\".format(prob))\n",
    "print(\"Valor esperado: 0.775 +/- 0.002\\n\\n\")\n",
    "\n",
    "# Compute accuracy on our training set\n",
    "p = predict(theta, X)\n",
    "\n",
    "y_aux = y.reshape((m,1))\n",
    "print(\"Presición del enetrenamiento: {0:5.6f}\\n\".format( np.mean((p == y_aux)) * 100))\n",
    "print(\"Precisión esperada (approx): 89.0\\n\")\n",
    "#print('\\n');"
   ]
  },
  {
   "cell_type": "code",
   "execution_count": null,
   "metadata": {},
   "outputs": [],
   "source": []
  }
 ],
 "metadata": {
  "celltoolbar": "Raw Cell Format",
  "kernelspec": {
   "display_name": "Python 3",
   "language": "python",
   "name": "python3"
  },
  "language_info": {
   "codemirror_mode": {
    "name": "ipython",
    "version": 3
   },
   "file_extension": ".py",
   "mimetype": "text/x-python",
   "name": "python",
   "nbconvert_exporter": "python",
   "pygments_lexer": "ipython3",
   "version": "3.6.5"
  }
 },
 "nbformat": 4,
 "nbformat_minor": 2
}
