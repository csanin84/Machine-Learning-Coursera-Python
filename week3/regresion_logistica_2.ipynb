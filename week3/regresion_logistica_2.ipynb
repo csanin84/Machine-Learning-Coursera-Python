{
 "cells": [
  {
   "cell_type": "code",
   "execution_count": 1,
   "metadata": {},
   "outputs": [],
   "source": [
    "import numpy as np\n",
    "import matplotlib.pyplot as plt\n",
    "plt.style.use('ggplot')\n",
    "\n",
    "import scipy.optimize as opt\n",
    "\n"
   ]
  },
  {
   "cell_type": "markdown",
   "metadata": {},
   "source": [
    "## Funciones"
   ]
  },
  {
   "cell_type": "code",
   "execution_count": 2,
   "metadata": {},
   "outputs": [],
   "source": [
    "\n",
    "\n",
    "def print_array(array, end = \"\\n\"):\n",
    "    #np.set_printoptions(precision=3)\n",
    "    \"\"\"Funcion para escribir una lista espaceada o salto de linea\"\"\"\n",
    "    for a in array:\n",
    "        print(\" {0:5.4f}\".format(a), end = end)\n",
    "        \n",
    "\n",
    "def plotData(X, y, xlabel = \"Microchips Test 1\", ylabel = \"Microchips Test 2\", \n",
    "             label_pos = \"y = 1\", label_neg = \"y = 0\"):\n",
    "    \n",
    "    \"\"\"PLOTDATA Plots the data points X and y into a new figure \n",
    "    PLOTDATA(x,y) plots the data points with + for the positive examples\n",
    "    and o for the negative examples. X is assumed to be a Mx2 matrix.\"\"\"\n",
    "    \n",
    "    # encontrar los indices positivos y negativos\n",
    "    pos, neg = np.where(y == 1)[0], np.where(y == 0)[0]\n",
    "    \n",
    "    f, ax = plt.subplots(figsize=(8, 8))\n",
    "    ax.plot(X[pos,0],X[pos,1], \"k+\", markersize = 8, label = label_pos)\n",
    "    ax.plot(X[neg,0],X[neg,1], \"yo\", markersize = 8, label = label_neg)\n",
    "    \n",
    "\n",
    "        \n",
    "    ax.set_xlabel(xlabel)\n",
    "    ax.set_ylabel(ylabel)\n",
    "    \n",
    "    ax.legend()\n",
    "    plt.show()\n",
    "    return (f, ax)\n",
    "\n",
    "def plotDecisionBoundary(theta, X, y, n):    \n",
    "    \"\"\"\n",
    "    PLOTDECISIONBOUNDARY Plots the data points X and y into a new figure with\n",
    "    the decision boundary defined by theta PLOTDECISIONBOUNDARY(theta, X,y) \n",
    "    plots the data points with + for the positive examples and o for the negative \n",
    "    examples. X is assumed to be a either \n",
    "    1) Mx3 matrix, where the first column is an all-ones column for the intercept.\n",
    "    2) MxN, N>3 matrix, where the first column is all-ones\n",
    "    \"\"\"\n",
    "    #graficar datos\n",
    "    #plotData(X[:,[1,2]], y)\n",
    "    \n",
    "    #m, n = X.shape\n",
    "    \n",
    "    if n <= 3:\n",
    "        # solamente se necesitan dos puntos para definir una linea, por eso escogemos los puntos finales\n",
    "        plot_x = np.array([X[:,1].min() - 2, X[:,1].max() + 2 ])\n",
    "        \n",
    "        # calcular la linea de decisión\n",
    "        plot_y = (-1. / theta[2]) * (theta[1] * plot_x + theta[0])\n",
    "        plotData(plot_x, plot_y)\n",
    "    else:\n",
    "        #establecer la grilla de rango\n",
    "        u = np.linspace(-1., 1.5, 50)\n",
    "        v = np.linspace(-1., 1.5, 50)         \n",
    "       \n",
    "        z = np.zeros((len(u), len(v)))\n",
    "        #evaluar z = theta*x sobre la grilla\n",
    "        for i in range(0,len(u)):        \n",
    "            for j in range(0,len(v)):            \n",
    "                a = u[i].reshape(1,1)\n",
    "                b = v[j].reshape(1,1)\n",
    "                z[i,j] = mapFeature(a,b)@theta        \n",
    "        \n",
    "        # encontrar los indices positivos y negativos\n",
    "        pos, neg = np.where(y == 1)[0], np.where(y == 0)[0]\n",
    "    \n",
    "        f, ax = plt.subplots(figsize=(8, 8))\n",
    "        ax.plot(X[pos,0],X[pos,1], \"k+\", markersize = 8, label = \"y = 1\")\n",
    "        ax.plot(X[neg,0],X[neg,1], \"yo\", markersize = 8, label =\"y = 0\")    \n",
    "\n",
    "        \n",
    "        ax.set_xlabel(\"Microchips Test 1\")\n",
    "        ax.set_ylabel(\"Microchips Test 2\")\n",
    "    \n",
    "        ax.legend()\n",
    "        \n",
    "        plt.contour(u, v, z.T, 0)\n",
    "        \n",
    "        plt.show()\n",
    "\n",
    "def mapFeature(X1, X2, degree = 6):\n",
    "    \n",
    "    \"\"\"\n",
    "    MAPFEATURE Feature mapping function to polynomial features\n",
    "\n",
    "    MAPFEATURE(X1, X2) maps the two input features\n",
    "    to quadratic features used in the regularization exercise.\n",
    "\n",
    "    Returns a new feature array with more features, comprising of \n",
    "    X1, X2, X1.^2, X2.^2, X1*X2, X1*X2.^2, etc..\n",
    "\n",
    "    Inputs X1, X2 must be the same size\n",
    "    \"\"\"\n",
    "    \n",
    "    out = np.ones((X1.shape[0], 1)) \n",
    "    \n",
    "    for i in range(1, degree + 1):\n",
    "        for j in range(0, i + 1):\n",
    "            \n",
    "            val_pol = ((X1**(i-j))*(X2**(j)))\n",
    "            #adicionar una columna con el valor del polinomio al final de la matriz\n",
    "            out = np.hstack(( out, val_pol ))\n",
    "    \n",
    "    return out\n",
    "\n",
    "def sigmoid(z):\n",
    "    \"\"\"SIGMOID Compute sigmoid function\n",
    "       g = SIGMOID(z) computes the sigmoid of z.\"\"\"\n",
    "    #inicializar variables\n",
    "    g = np.zeros(z.shape)    \n",
    "    g = 1. / (1 + np.exp(-z))\n",
    "    \n",
    "    return g\n",
    "\n",
    "def costFunctionReg(theta, X, y, lambda_reg):\n",
    "    \"\"\"\n",
    "    COSTFUNCTIONREG Compute cost and gradient for logistic regression with regularization\n",
    "    J = COSTFUNCTIONREG(theta, X, y, lambda) computes the cost of using\n",
    "    theta as the parameter for regularized logistic regression and the\n",
    "    gradient of the cost w.r.t. to the parameters. \n",
    "    \"\"\"\n",
    "    # inicializar valores utiles\n",
    "    m  = len(y)\n",
    "    # inicializar valores a retornar\n",
    "    J = 0.\n",
    "    grad = np.zeros(theta.shape)\n",
    "    \n",
    "    z = np.dot(X,theta)\n",
    "    h = sigmoid(z)\n",
    "    # calcular error\n",
    "    e = h - y\n",
    "    \n",
    "    # J =  (1/m)  * (a - b) + (lambda/2m)* c    \n",
    "    k =  1./m \n",
    "    a = -y@np.log(h)\n",
    "    b = (1 - y)@np.log(1 - h)\n",
    "    reg = (0.5 *lambda_reg)/m\n",
    "    c = theta[1:]@theta[1:]\n",
    "    \n",
    "    J =  ( k * ( a - b ) )  + ( reg * c )    \n",
    "    \n",
    "    grad[0] = k * ( X[:,0].T @ e )    \n",
    "    grad[1:] = k * ( X[:,1:].T @ e ) + ( 2*reg )*theta[1:]   \n",
    "                  \n",
    "    return (J, grad)  \n",
    "\n",
    "def J(theta, X, y, lambda_reg):  \n",
    "    \"\"\"return J value\"\"\"\n",
    "    return costFunctionReg(theta, X, y, lambda_reg)[0]\n",
    "\n",
    "def gradient(theta, X, y, lambda_reg): \n",
    "    \"\"\"return gradient\"\"\"\n",
    "    return costFunctionReg(theta, X, y, lambda_reg)[1] \n",
    "\n",
    "\n",
    "def predict(theta, X):\n",
    "    \"\"\"\n",
    "    PREDICT Predict whether the label is 0 or 1 using learned logistic \n",
    "    regression parameters theta\n",
    "    p = PREDICT(theta, X) computes the predictions for X using a \n",
    "    threshold at 0.5 (i.e., if sigmoid(theta'*x) >= 0.5, predict 1)\n",
    "    \"\"\"\n",
    "    # número de ejemplos de entrenamiento\n",
    "    m = X.shape[0]\n",
    "   \n",
    "    # vectores de probabilidades\n",
    "    p = np.zeros((m,1))\n",
    "    \n",
    "    # asignar 0 o 1 a las probabilidades\n",
    "    h = sigmoid(X@theta)  \n",
    "    h = h.reshape((m,1))\n",
    "    h[ h >= 0.5 ] = 1.\n",
    "    h[ h < 0.5 ] = 0.\n",
    "    \n",
    "    p = h\n",
    "    \n",
    "    return p"
   ]
  },
  {
   "cell_type": "markdown",
   "metadata": {},
   "source": [
    "## Inicialización"
   ]
  },
  {
   "cell_type": "code",
   "execution_count": 9,
   "metadata": {},
   "outputs": [
    {
     "name": "stdout",
     "output_type": "stream",
     "text": [
      "X shape= (118, 2)\n",
      "y shape= (118,)\n"
     ]
    },
    {
     "data": {
      "image/png": "[encoded data removed]",
      "text/plain": [
       "<Figure size 576x576 with 1 Axes>"
      ]
     },
     "metadata": {},
     "output_type": "display_data"
    }
   ],
   "source": [
    "data = np.loadtxt( fname = \"ex2data2.txt\", delimiter = \",\" )\n",
    "\n",
    "# crear matriz de variables y el vector de clases\n",
    "X = data[:,[0,1]]\n",
    "X_aux = X.copy()\n",
    "y = data[:,-1]\n",
    "\n",
    "\n",
    "print(\"X shape=\",X.shape)\n",
    "print(\"y shape=\",y.shape) \n",
    "\n",
    "\n",
    "m = X.shape[0]\n",
    "plotData(X, y)\n",
    "plt.show()\n",
    "\n"
   ]
  },
  {
   "cell_type": "markdown",
   "metadata": {},
   "source": [
    "## Parte 1: Regresión Logistica Regularizada"
   ]
  },
  {
   "cell_type": "code",
   "execution_count": 4,
   "metadata": {},
   "outputs": [
    {
     "name": "stdout",
     "output_type": "stream",
     "text": [
      "Costo inicial con theta (zeros): 0.693\n",
      "costo esperado (approx): 0.693\n",
      "\n",
      "Gradientes con theta (zeros) - primeros cinco valores:\n",
      " 0.0085\n",
      " 0.0188\n",
      " 0.0001\n",
      " 0.0503\n",
      " 0.0115\n",
      "Gradientes esperados (approx) - primeros cinco valores:\n",
      " 0.0085\n",
      " 0.0188\n",
      " 0.0001\n",
      " 0.0503\n",
      " 0.0115\n",
      "\n",
      "\n",
      "Para lambda = 10\n",
      "Costo inicial con theta (zeros): 3.165\n",
      "costo esperado (approx): 3.16\n",
      "\n",
      "Gradientes con theta (zeros) - primeros cinco valores:\n",
      " 0.3460\n",
      " 0.1614\n",
      " 0.1948\n",
      " 0.2269\n",
      " 0.0922\n",
      "Gradientes esperados (approx) - primeros cinco valores:\n",
      " 0.3460\n",
      " 0.1614\n",
      " 0.1948\n",
      " 0.2269\n",
      " 0.0922\n",
      "\n"
     ]
    }
   ],
   "source": [
    "# agregar variables polinomialaes\n",
    "if X.shape[1] == 2:\n",
    "    X1 = X[:,0].reshape((X[:,0].shape[0],1))\n",
    "    X2 = X[:,1].reshape((X[:,1].shape[0],1))\n",
    "    X = mapFeature( X1, X2 )\n",
    "\n",
    "# inicializar los parametros de ajuste theta\n",
    "initial_theta = np.zeros((X.shape[1]))\n",
    "\n",
    "# establecer parametro de regulacion lambda a 1\n",
    "lambda_reg = 1\n",
    "\n",
    "cost, grad = costFunctionReg(initial_theta, X, y, lambda_reg)\n",
    "print(\"Costo inicial con theta (zeros): {0:5.3f}\".format(cost))\n",
    "print(\"costo esperado (approx): 0.693\\n\")\n",
    "\n",
    "print(\"Gradientes con theta (zeros) - primeros cinco valores:\")\n",
    "print_array(grad[0:5])\n",
    "print(\"Gradientes esperados (approx) - primeros cinco valores:\")\n",
    "print(\" 0.0085\\n 0.0188\\n 0.0001\\n 0.0503\\n 0.0115\\n\")\n",
    "\n",
    "print(\"\\nPara lambda = 10\")\n",
    "test_theta = np.ones((X.shape[1]))\n",
    "cost, grad = costFunctionReg(test_theta, X, y, 10)\n",
    "print(\"Costo inicial con theta (zeros): {0:5.3f}\".format(cost))\n",
    "print(\"costo esperado (approx): 3.16\\n\")\n",
    "\n",
    "print(\"Gradientes con theta (zeros) - primeros cinco valores:\")\n",
    "print_array(grad[0:5])\n",
    "print(\"Gradientes esperados (approx) - primeros cinco valores:\")\n",
    "print(\" 0.3460\\n 0.1614\\n 0.1948\\n 0.2269\\n 0.0922\\n\")"
   ]
  },
  {
   "cell_type": "markdown",
   "metadata": {},
   "source": [
    "## Part 2: Regularización  y Precisión"
   ]
  },
  {
   "cell_type": "code",
   "execution_count": 5,
   "metadata": {},
   "outputs": [
    {
     "name": "stdout",
     "output_type": "stream",
     "text": [
      "X shape= (118, 28)\n",
      "y shape= (118,)\n",
      "initial_theta shape= (28,)\n"
     ]
    },
    {
     "data": {
      "image/png": "[encoded data removed]",
      "text/plain": [
       "<Figure size 576x576 with 1 Axes>"
      ]
     },
     "metadata": {},
     "output_type": "display_data"
    }
   ],
   "source": [
    "# inicializar los parametros de ajuste theta\n",
    "initial_theta = np.zeros((X.shape[1]))\n",
    "\n",
    "# establecer parametro de regulacion lambda a 1\n",
    "lambda_reg = 1.\n",
    "print(\"X shape=\",X.shape)\n",
    "print(\"y shape=\",y.shape) \n",
    "print(\"initial_theta shape=\",initial_theta.shape)\n",
    "val = opt.fmin_bfgs(J, initial_theta, fprime=gradient, args=(X, y, lambda_reg), full_output = True, disp = False)\n",
    "cost, theta = val[1], val[0]\n",
    "\n",
    "plotDecisionBoundary(theta, X_aux, y, X.shape[1])"
   ]
  },
  {
   "cell_type": "code",
   "execution_count": 6,
   "metadata": {},
   "outputs": [
    {
     "name": "stdout",
     "output_type": "stream",
     "text": [
      "Presición del enetrenamiento: 83.050847\n",
      "\n",
      "Precisión esperada (con lambda = 1): 83.1(aprox)\n",
      "\n"
     ]
    }
   ],
   "source": [
    "# Compute accuracy on our training set\n",
    "p = predict(theta, X)\n",
    "\n",
    "y_aux = y.reshape((m,1))\n",
    "print(\"Presición del enetrenamiento: {0:5.6f}\\n\".format( np.mean((p == y_aux)) * 100))\n",
    "print(\"Precisión esperada (con lambda = 1): 83.1(aprox)\\n\")\n",
    "#print('\\n');"
   ]
  },
  {
   "cell_type": "code",
   "execution_count": null,
   "metadata": {},
   "outputs": [],
   "source": []
  }
 ],
 "metadata": {
  "kernelspec": {
   "display_name": "Python 3",
   "language": "python",
   "name": "python3"
  },
  "language_info": {
   "codemirror_mode": {
    "name": "ipython",
    "version": 3
   },
   "file_extension": ".py",
   "mimetype": "text/x-python",
   "name": "python",
   "nbconvert_exporter": "python",
   "pygments_lexer": "ipython3",
   "version": "3.7.3"
  }
 },
 "nbformat": 4,
 "nbformat_minor": 2
}
