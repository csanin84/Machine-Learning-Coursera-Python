{
 "cells": [
  {
   "cell_type": "markdown",
   "metadata": {},
   "source": [
    "# Clasificación Multiclases y Redes Neuronales\n"
   ]
  },
  {
   "cell_type": "code",
   "execution_count": 1,
   "metadata": {},
   "outputs": [],
   "source": [
    "import scipy.io\n",
    "import numpy as np\n",
    "import matplotlib.pyplot as plt\n",
    "#plt.style.use('seaborn-muted')\n",
    "plt.style.use('ggplot')\n",
    "import scipy.optimize as opt\n",
    "#from scipy.optimize import minimize"
   ]
  },
  {
   "cell_type": "markdown",
   "metadata": {},
   "source": [
    "# Funciones"
   ]
  },
  {
   "cell_type": "code",
   "execution_count": 2,
   "metadata": {},
   "outputs": [],
   "source": [
    "def print_array(array, end = \"\\n\"):\n",
    "    #np.set_printoptions(precision=3)\n",
    "    \"\"\"Funcion para escribir una lista espaceada o salto de linea\"\"\"\n",
    "    for a in array:\n",
    "        print(\" {0:5.6f}\".format(a), end = end)\n",
    "\n",
    "def display_data(X):\n",
    "    \"\"\"\n",
    "    Transforms each input row into a rectangular image part and plots\n",
    "    the resulting image.\n",
    "    \"\"\"\n",
    "    m, n = X.shape \n",
    "    \n",
    "    example_width = int(np.around(np.sqrt(n))) # anchura de pixels\n",
    "    example_height = int(n / example_width) # altura pixels\n",
    "       \n",
    "    # calcular filas y columnas de la matriz a mostrar\n",
    "    display_rows = int(np.sqrt(m))\n",
    "    display_cols = int(m / display_rows)   \n",
    "    \n",
    "    # padding entre las imagenes\n",
    "    pad = 1\n",
    "    \n",
    "    display_array = -np.ones((pad + display_rows * (example_height + pad),  \n",
    "                              pad + display_cols * (example_width + pad)))\n",
    "    \n",
    "   # Copy example into a patch on the display array\n",
    "    curr_ex = 0\n",
    "    \n",
    "    for i in range(display_rows):\n",
    "        for j in range(display_cols):\n",
    "            \n",
    "            if curr_ex < m:                \n",
    "                \n",
    "                # obtener maximo valor para normalizar ejemplos\n",
    "                max_val = max(abs(X[curr_ex, :]))\n",
    "            \n",
    "                rows = pad + (i) * (example_height + pad) + np.array(range(example_height))\n",
    "                cols = pad + (j) * (example_width + pad) + np.array(range(example_width ))\n",
    "            \n",
    "                img = np.reshape(X[curr_ex, :], (example_height, example_width))\n",
    "                \n",
    "                display_array[ rows[0]: rows[-1] + 1 , cols[0]: cols[-1] + 1 ] = img / max_val\n",
    "                \n",
    "                curr_ex += 1\n",
    "           \n",
    "            else:\n",
    "                break          \n",
    "             \n",
    "    plt.figure(figsize=(8,8))\n",
    "    plt.imshow(display_array.T, plt.cm.gray)\n",
    "    plt.axis(\"off\")\n",
    "   \n",
    "    plt.show()\n",
    "    \n",
    "def sigmoid(z):\n",
    "    \"\"\"SIGMOID Compute sigmoid function\n",
    "       g = SIGMOID(z) computes the sigmoid of z.\"\"\"\n",
    "    #inicializar variables\n",
    "    g = np.zeros(z.shape)    \n",
    "    g = 1. / (1 + np.exp(-z))\n",
    "    \n",
    "    return g\n",
    "\n",
    "def lrCostFunction(theta, X, y, lamda):\n",
    "    \"\"\"\n",
    "    COSTFUNCTIONREG Compute cost and gradient for logistic regression with regularization\n",
    "    J = COSTFUNCTIONREG(theta, X, y, lambda) computes the cost of using\n",
    "    theta as the parameter for regularized logistic regression and the\n",
    "    gradient of the cost w.r.t. to the parameters. \n",
    "    \"\"\"\n",
    "    # inicializar valores utiles\n",
    "    m  = len(y)\n",
    "    # inicializar valores a retornar\n",
    "    J = 0.\n",
    "    grad = np.zeros(theta.shape)\n",
    "    \n",
    "    z = np.dot(X,theta)\n",
    "    h = sigmoid(z)\n",
    "    # calcular error\n",
    "    e = h - y\n",
    "    \n",
    "    # J =  (1/m)  * (a - b) + (lambda/2m)* c    \n",
    "    k =  1./m \n",
    "    a = -y@np.log(h)\n",
    "    b = (1 - y)@np.log(1 - h)\n",
    "    reg = (0.5 *lamda)/m\n",
    "    c = theta[1:]@theta[1:]\n",
    "    \n",
    "    J =  ( k * ( a - b ) )  + ( reg * c )    \n",
    "    \n",
    "    grad[0] = k * ( X[:,0].T @ e )    \n",
    "    grad[1:] = k * ( X[:,1:].T @ e ) + ( 2*reg )*theta[1:]   \n",
    "                  \n",
    "    return (J, grad)\n",
    "\n",
    "def J(theta, X, y, lamda):  \n",
    "    \"\"\"return J value\"\"\"\n",
    "    return lrCostFunction(theta, X, y, lamda)[0].reshape((1,))\n",
    "\n",
    "def gradient(theta, X, y, lamda): \n",
    "    \"\"\"return gradient\"\"\"\n",
    "    return lrCostFunction(theta, X, y, lamda)[1] \n",
    "\n",
    "def oneVsAll(X, y, num_labels, lamda):\n",
    "        \n",
    "    # algunas variables utiles\n",
    "    m = X.shape[0] # número de ejemplos\n",
    "    n = X.shape[1] # número de variables\n",
    "    \n",
    "    # variable a retornar\n",
    "    all_theta = np.zeros( (num_labels, n+1) )\n",
    "    all_cost = np.zeros( (n+1,) )\n",
    "    # adicionar unos a la matriz de datos\n",
    "    X = np.hstack( (np.ones((m, 1)), X) )   \n",
    "    \n",
    "    for c in range(1, num_labels + 1):\n",
    "        print(\"Training {:d} out of {:d} categories ->\".format(c, num_labels), end=\"\")\n",
    "        label = (y == c)*1   \n",
    "        initial_theta = np.zeros((n+1))        \n",
    "    \n",
    "        #sol = opt.fmin_cg(J, x0=initial_theta, fprime=gradient, args=(X, label, lamda), disp=0)\n",
    "        #val = opt.fmin_bfgs(J, initial_theta, fprime=gradient, args=(X, label, lamda), full_output = True, disp = False)\n",
    "        #val = opt.minimize(J, initial_theta, args=(X, label, lamda), method= 'BFGS', jac=gradient)\n",
    "\n",
    "        args=(X, label, lamda)\n",
    "        val = opt.fmin_cg(J, initial_theta, fprime=gradient, args=args, full_output = True, disp = False)\n",
    "        cost, theta = val[1], val[0]\n",
    "     \n",
    "        print(\" costo = {0:e}\".format(cost))\n",
    "        #print(\"Theta =\\n\", theta[0:20])\n",
    "        all_theta[c-1:] = theta\n",
    "        all_cost[c-1] = cost\n",
    "    return (all_theta, all_cost)\n",
    "\n",
    "def predictOneVsAll(all_theta, X):\n",
    "    \"\"\"\n",
    "    PREDICT Predict the label for a trained one-vs-all classifier. The labels \n",
    "    are in the range 1..K, where K = size(all_theta, 1). \n",
    "    p = PREDICTONEVSALL(all_theta, X) will return a vector of predictions\n",
    "    for each example in the matrix X. Note that X contains the examples in\n",
    "    rows. all_theta is a matrix where the i-th row is a trained logistic\n",
    "    regression theta vector for the i-th class. You should set p to a vector\n",
    "    of values from 1..K (e.g., p = [1; 3; 1; 2] predicts classes 1, 3, 1, 2\n",
    "    for 4 examples) \n",
    "    \"\"\"\n",
    "    m = X.shape[0]\n",
    "    p = np.zeros( (m,) )\n",
    "    \n",
    "    # adicionar columnas de unos a la matriz X\n",
    "    X = np.hstack( (np.ones((m, 1)), X) )\n",
    "    h = sigmoid( X @ all_theta .T ) \n",
    "    p = np.argmax( h, axis = 1 ) + 1\n",
    "    \n",
    "    return p"
   ]
  },
  {
   "cell_type": "markdown",
   "metadata": {},
   "source": [
    "## Parte 1: Cargar y Visualizar Datos"
   ]
  },
  {
   "cell_type": "code",
   "execution_count": 3,
   "metadata": {},
   "outputs": [
    {
     "name": "stdout",
     "output_type": "stream",
     "text": [
      "(5000,)\n"
     ]
    },
    {
     "data": {
      "image/png": "[encoded data removed]",
      "text/plain": [
       "<Figure size 576x576 with 1 Axes>"
      ]
     },
     "metadata": {},
     "output_type": "display_data"
    }
   ],
   "source": [
    "input_layer_size = 400 # 20 x 20 imagenes de entrada\n",
    "num_labels = 10        # 10 etiquetas de 1 a 10\n",
    "\n",
    "# cargar datos\n",
    "mat = scipy.io.loadmat('ex3data1.mat') #lectura de file .mat, cargados en un diccionario con X, y como llaves\n",
    "X = mat[\"X\"]\n",
    "y = mat[\"y\"]\n",
    "y = y.reshape((len(y),))\n",
    "m = X.shape[0]\n",
    "\n",
    "# seleccionar aleatoriamente 100 data point para mostrar\n",
    "rand_indices = np.random.permutation(m)\n",
    "\n",
    "sel = X[rand_indices[0:100],:]\n",
    "\n",
    "display_data(sel)\n"
   ]
  },
  {
   "cell_type": "markdown",
   "metadata": {},
   "source": [
    "## Parte 2a: Vectorice la regreción logistica"
   ]
  },
  {
   "cell_type": "code",
   "execution_count": 4,
   "metadata": {},
   "outputs": [
    {
     "name": "stdout",
     "output_type": "stream",
     "text": [
      "Testeando lrCostFunction() con regularización\n",
      "\n",
      "Costo: 2.534819\n",
      "Costo esperado: 2.534819\n",
      "\n",
      "Gradientes:\n",
      " 0.146561\n",
      " -0.548558\n",
      " 0.724722\n",
      " 1.398003\n",
      "Gradientes Esperados:\n",
      " 0.146561\n",
      " -0.548558\n",
      " 0.724722\n",
      " 1.398003\n"
     ]
    }
   ],
   "source": [
    "# testear caso para lrCostFunction\n",
    "print(\"Testeando lrCostFunction() con regularización\\n\")\n",
    "\n",
    "tetha_t = np.array([-2., -1., 1., 2.])\n",
    "X_t = np.hstack(( np.ones((5,1)), (np.reshape(range(1,16), (5,3), order=\"F\"))/10 ))\n",
    "y_t = np.array([1, 0, 1, 0, 1])\n",
    "lamda_t = 3\n",
    "\n",
    "cost, grad = lrCostFunction(tetha_t, X_t, y_t, lamda_t)\n",
    "\n",
    "print(\"Costo: {0:5.6f}\".format(cost))\n",
    "print(\"Costo esperado: 2.534819\\n\")\n",
    "print(\"Gradientes:\")\n",
    "print_array(grad)\n",
    "print(\"Gradientes Esperados:\")\n",
    "print(\" 0.146561\\n -0.548558\\n 0.724722\\n 1.398003\")"
   ]
  },
  {
   "cell_type": "markdown",
   "metadata": {},
   "source": [
    "## Parte 2b: Entrenamiento One-vs-All"
   ]
  },
  {
   "cell_type": "code",
   "execution_count": 5,
   "metadata": {},
   "outputs": [
    {
     "name": "stdout",
     "output_type": "stream",
     "text": [
      "Training 1 out of 10 categories -> costo = 1.311942e-02\n",
      "Training 2 out of 10 categories -> costo = 5.081263e-02\n",
      "Training 3 out of 10 categories -> costo = 5.761122e-02\n",
      "Training 4 out of 10 categories -> costo = 3.308823e-02\n",
      "Training 5 out of 10 categories -> costo = 5.445806e-02\n",
      "Training 6 out of 10 categories -> costo = 1.825865e-02\n",
      "Training 7 out of 10 categories -> costo = 3.066683e-02\n",
      "Training 8 out of 10 categories -> costo = 7.846117e-02\n",
      "Training 9 out of 10 categories -> costo = 7.119841e-02\n",
      "Training 10 out of 10 categories -> costo = 8.569235e-03\n"
     ]
    }
   ],
   "source": [
    "lamda = 0.1\n",
    "all_theta, all_cost = oneVsAll(X, y, num_labels, lamda)"
   ]
  },
  {
   "cell_type": "markdown",
   "metadata": {},
   "source": [
    "## Parte 3: Predicciones para One-Vs-All"
   ]
  },
  {
   "cell_type": "code",
   "execution_count": 6,
   "metadata": {},
   "outputs": [
    {
     "name": "stdout",
     "output_type": "stream",
     "text": [
      "Presición del enetrenamiento: 96.46%\n",
      "\n"
     ]
    }
   ],
   "source": [
    "pred = predictOneVsAll(all_theta, X) \n",
    "print(\"Presición del enetrenamiento: {0:5.2f}%\\n\".format( np.mean((pred == y)) * 100))"
   ]
  },
  {
   "cell_type": "code",
   "execution_count": null,
   "metadata": {},
   "outputs": [],
   "source": []
  }
 ],
 "metadata": {
  "kernelspec": {
   "display_name": "Python 3",
   "language": "python",
   "name": "python3"
  },
  "language_info": {
   "codemirror_mode": {
    "name": "ipython",
    "version": 3
   },
   "file_extension": ".py",
   "mimetype": "text/x-python",
   "name": "python",
   "nbconvert_exporter": "python",
   "pygments_lexer": "ipython3",
   "version": "3.6.5"
  }
 },
 "nbformat": 4,
 "nbformat_minor": 2
}
